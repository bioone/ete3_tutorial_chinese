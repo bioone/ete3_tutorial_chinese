{
 "cells": [
  {
   "cell_type": "markdown",
   "metadata": {},
   "source": [
    "## 利用ETE进行树型分析/可视化实战"
   ]
  },
  {
   "cell_type": "markdown",
   "metadata": {},
   "source": [
    "## ETE数据结构的操作"
   ]
  },
  {
   "cell_type": "markdown",
   "metadata": {},
   "source": [
    "### 读取Newick格式的树"
   ]
  },
  {
   "cell_type": "code",
   "execution_count": null,
   "metadata": {},
   "outputs": [],
   "source": [
    "from ete3 import Tree\n",
    "\n",
    "# 以newick格式的字符串读取树 \n",
    "t = Tree(\"(A:1,(B:1,(E:1,D:1):0.5):0.5);\")\n",
    "\n",
    "# 以newick文件读取树\n",
    "t = Tree(\"data/example_tree_1.nw\")\n",
    "\n",
    "# 生成随机树, 可任意定义node的数量和名称\n",
    "t = Tree()\n",
    "t.populate(10,names_library=['A','B','C','D','E','F','G','H','I','J'], random_branches=True, reuse_names=False)\n",
    "# 打印树\n",
    "print(t) #若直接打印树则只显示拓扑结构"
   ]
  },
  {
   "cell_type": "code",
   "execution_count": null,
   "metadata": {},
   "outputs": [],
   "source": [
    "# 渲染树\n",
    "t.render('%%inline')"
   ]
  },
  {
   "cell_type": "code",
   "execution_count": null,
   "metadata": {},
   "outputs": [],
   "source": []
  },
  {
   "cell_type": "markdown",
   "metadata": {},
   "source": [
    "### 写出newick树文件"
   ]
  },
  {
   "cell_type": "code",
   "execution_count": null,
   "metadata": {},
   "outputs": [],
   "source": [
    "# 默认格式fromat=0\n",
    "t.write(outfile='data/example_tree_1.printed.nw')\n",
    "\n",
    "# 选择输出格式=9，\n",
    "t.write(outfile='data/example_tree_1.printed9.nw', format=9)\n",
    "\n",
    "# 也可以选择打开GUI交互式进行交互式操作\n",
    "# 打开GUI\n",
    "t.show()"
   ]
  },
  {
   "cell_type": "code",
   "execution_count": null,
   "metadata": {},
   "outputs": [],
   "source": []
  },
  {
   "cell_type": "markdown",
   "metadata": {},
   "source": [
    "### 树Node的属性(attributes)介绍"
   ]
  },
  {
   "cell_type": "code",
   "execution_count": null,
   "metadata": {},
   "outputs": [],
   "source": [
    "from ete3 import Tree\n",
    "t = Tree(\"data/example_tree_1.nw\")\n",
    "print(t)\n",
    "#         /-G\n",
    "#      /-|\n",
    "#     |   \\-F\n",
    "#     |\n",
    "#     |      /-E\n",
    "#   /-|   /-|\n",
    "#  |  |  |  |   /-D\n",
    "#  |  |  |   \\-|\n",
    "#  |  |  |     |   /-C\n",
    "#  |   \\-|      \\-|\n",
    "#  |     |        |   /-B\n",
    "#--|     |         \\-|\n",
    "#  |     |            \\-A\n",
    "#  |     |\n",
    "#  |      \\-J\n",
    "#  |\n",
    "#  |   /-I\n",
    "#   \\-|\n",
    "#      \\-H\n",
    "\n",
    "# 树中的所有nodes都拥有以下三个属性\n",
    "print(t.name)\n",
    "# ''\n",
    "print(t.dist)\n",
    "# 0.0\n",
    "print(t.support)\n",
    "# 1.0\n",
    "\n",
    "# 获取不同结点(node)信息\n",
    "\n",
    "# 在载入树后，变量默认为树的根(root)\n",
    "print(t.is_root())\n",
    "# True\n",
    "# 获取下一级子结点\n",
    "children = t.get_children())\n",
    "print(childer[0])\n",
    "#       /-G\n",
    "#    /-|\n",
    "#   |   \\-F\n",
    "#   |\n",
    "#   |      /-E\n",
    "# --|   /-|\n",
    "#   |  |  |   /-D\n",
    "#   |  |   \\-|\n",
    "#   |  |     |   /-C\n",
    "#    \\-|      \\-|\n",
    "#      |        |   /-B\n",
    "#      |         \\-|\n",
    "#      |            \\-A\n",
    "#      |\n",
    "#       \\-J\n",
    "\n",
    "print(childer[1])\n",
    "#    /-I\n",
    "# --|\n",
    "#    \\-H\n",
    "\n",
    "# 获取再下一级结点\n",
    "ch1, ch2 = children\n",
    "grandchildren1 = ch1.get_children()\n",
    "grandchildren2 = ch2.get_children()\n",
    "\n",
    "# grandchildren2[0]和grandchildren2[1]已经是最后一级的结点\n",
    "print(grandchildren2[0].is_leaf())\n",
    "# True\n",
    "print(grandchildren2[0])\n",
    "# --I\n",
    "print(grandchildren2[1])\n",
    "# --H\n",
    "\n",
    "print t.is_leaf()\n",
    "print t.get_tree_root()\n",
    "print t.children[0].get_tree_root()\n",
    "print t.children[0].children[0].get_tree_root()\n",
    "\n",
    "# 也可以用其他方法获取叶节点\n",
    "leaf_I = t.get_leaves_by_name(\"I\")[0]\n",
    "leaf_I = t.search_nodes(name=\"I\")[0]\n",
    "\n",
    "# 获取结点的共同祖先(common ancestor), 注意:若获取单个结点的共同祖先，将返回根\n",
    "anc = t.get_common_ancestor(\"J\", \"B\", \"D\")\n",
    "print(anc)\n",
    "#       /-E\n",
    "#    /-|\n",
    "#   |  |   /-D\n",
    "#   |   \\-|\n",
    "#   |     |   /-C\n",
    "# --|      \\-|\n",
    "#   |        |   /-B\n",
    "#   |         \\-|\n",
    "#   |            \\-A\n",
    "#   |\n",
    "#    \\-J\n",
    "\n",
    "# 使用traverse()历遍整棵树所有结点\n",
    "num = 1\n",
    "for node in t.traverse():\n",
    "    #只返回叶节点\n",
    "    if node.is_leaf():\n",
    "        print(num, node.name)\n",
    "        num +=1\n",
    "        \n",
    "# 也可以选择只历遍所有叶节点\n",
    "for leaf in t.iter_leaves():\n",
    "    print(leaf)\n",
    "# 1 I\n",
    "# 2 H\n",
    "# 3 G\n",
    "# 4 F\n",
    "# 5 J\n",
    "# 6 E\n",
    "# 7 D\n",
    "# 8 C\n",
    "# 9 B\n",
    "# 10 A"
   ]
  },
  {
   "cell_type": "code",
   "execution_count": null,
   "metadata": {},
   "outputs": [],
   "source": []
  },
  {
   "cell_type": "markdown",
   "metadata": {},
   "source": [
    "### 对结点进行注释"
   ]
  },
  {
   "cell_type": "code",
   "execution_count": null,
   "metadata": {},
   "outputs": [],
   "source": [
    "import random\n",
    "from ete3 import Tree\n",
    "\n",
    "# 载入树\n",
    "t = Tree(\"data/example_tree_1.nw\")\n",
    "\n",
    "# 对特定的叶节点进行注释\n",
    "for leaf in t.traverse():\n",
    "    if leaf.name in \"AEIOU\":\n",
    "        leaf.add_features(vowel=True, confidence=random.random())\n",
    "    else:\n",
    "        leaf.add_features(vowel=False, confidence=random.random())\n",
    "\n",
    "print(\"This tree has\", [leaf.name for leaf in t.iter_leaves() if leaf.vowel==True], \"vowel leaves\")\n",
    "# This tree has ['E', 'A', 'I'] vowel leaves\n",
    "\n",
    "# 现在我们可以利用结点的属性对其进行简单的计算，\n",
    "# 例如, 在结点J，B和D的共同祖先下的结点中，找出所有支长大于0.5的集合\n",
    "\n",
    "ancestor = t.get_common_ancestor(\"J\", \"B\", \"D\")\n",
    "matches = [leaf for leaf in ancestor.traverse() if leaf.dist>0.5]\n",
    "\n",
    "# 把符合条件的信息添加到ancestor结点的属性中\n",
    "ancestor.add_feature(\"long_branch_nodes\", matches)\n",
    "\n",
    "print(\"These are nodes under ancestor with long branches\", [n.name for n in ancestor.long_branch_nodes])\n",
    "# These are nodes under ancestor with long branches ['', 'E', '', 'C', '', 'B', 'A']"
   ]
  },
  {
   "cell_type": "code",
   "execution_count": null,
   "metadata": {},
   "outputs": [],
   "source": []
  },
  {
   "cell_type": "markdown",
   "metadata": {},
   "source": [
    "### 树与树进行比较"
   ]
  },
  {
   "cell_type": "code",
   "execution_count": null,
   "metadata": {},
   "outputs": [],
   "source": [
    "# compare()函数能用于比较两棵树的拓扑结构，其中使用了不同计算距离的方法，如Robinson Foulds distance\n",
    "\n",
    "from ete3 import Tree\n",
    "t1 = Tree(\"data/example_tree_1.nw\")\n",
    "\n",
    "# 导入比较树\n",
    "t2 = Tree(\"data/example_tree_2.nw\")\n",
    "print(t2)\n",
    "#          /-D\n",
    "#       /-|\n",
    "#      |   \\-C\n",
    "#    /-|\n",
    "#   |  |   /-B\n",
    "#   |   \\-|\n",
    "#   |      \\-A\n",
    "#   |\n",
    "# --|      /-J\n",
    "#   |   /-|\n",
    "#   |  |  |   /-I\n",
    "#   |  |   \\-|\n",
    "#   |  |     |   /-H\n",
    "#    \\-|      \\-|\n",
    "#      |         \\-G\n",
    "#      |\n",
    "#      |   /-F\n",
    "#       \\-|\n",
    "#          \\-E\n",
    "\n",
    "# 对两树进行比较计算\n",
    "rf, max_rf, common_leaves, parts_t1, parts_t2, discard_t1, discard_t2 = t1.robinson_foulds(t2)\n",
    "\n",
    "# 输出结果为:\n",
    "# RF距离\n",
    "# 最大RF距离\n",
    "# 两树共同拥有的叶节点\n",
    "# t1所拥有t2没有的partition\n",
    "# t2所拥有t1没有的partition\n",
    "# t1舍弃的partition\n",
    "# t2舍弃的partition\n",
    "\n",
    "print(\"RF distance is %s over a total of %s\" %(rf, max_rf))\n",
    "# RF distance is 12 over a total of 16\n",
    "\n",
    "# 在这里RF=12，即为两树之间有12个不相同的partition"
   ]
  },
  {
   "cell_type": "markdown",
   "metadata": {},
   "source": [
    "### 计算进化分支(branch)的长度"
   ]
  },
  {
   "cell_type": "code",
   "execution_count": null,
   "metadata": {},
   "outputs": [],
   "source": [
    "# 使用get_distance()方法可计算树中两个结点之间的分支长度，该方法可以用于计算: a)两个叶节点的分支长度(通过传递两叶节点名称作为参数); b)当前结点到目标结点的分支长度（仅传递目标结点为参数）\n",
    "\n",
    "from ete3 import Tree\n",
    "t1 = Tree(\"data/example_tree_1.nw\")\n",
    "\n",
    "# 如下图，计算I到A的距离\n",
    "print(t.get_distance(\"I\",\"A\")) \n",
    "# 4.4721491\n",
    "\n",
    "# 将参数topology_only设为True可计算两者之间的结点树（设分支长度为1）\n",
    "print(t.get_distance(\"I\",\"A\", topology_only=True))\n",
    "# 8.0\n",
    "\n",
    "# 当只输入一个叶节点，即计算叶节点到根的距离\n",
    "print(t.get_distance(\"I\"))\n",
    "# 0.2482741"
   ]
  },
  {
   "cell_type": "code",
   "execution_count": null,
   "metadata": {},
   "outputs": [],
   "source": []
  },
  {
   "cell_type": "markdown",
   "metadata": {},
   "source": [
    "### 对树结构进行添加、删除与修剪"
   ]
  },
  {
   "cell_type": "markdown",
   "metadata": {},
   "source": [
    "添加"
   ]
  },
  {
   "cell_type": "code",
   "execution_count": null,
   "metadata": {},
   "outputs": [],
   "source": [
    "from ete3 import Tree\n",
    "\n",
    "# 通过add_child()和add_sister()为树添加分支或结点\n",
    "t = Tree()\n",
    "ch1 = t.add_child(name=\"A\", dist=0.9, support=70)\n",
    "ch2 = t.add_child(name=\"B\", dist=0.5, support=80)\n",
    "ch3 = ch2.add_child(name=\"C\", dist=0.3, support=10)\n",
    "ch4 = ch2.add_child(name=\"D\", dist=0.8, support=90)\n",
    "t.show()"
   ]
  },
  {
   "cell_type": "markdown",
   "metadata": {},
   "source": [
    "删除"
   ]
  },
  {
   "cell_type": "code",
   "execution_count": null,
   "metadata": {},
   "outputs": [],
   "source": [
    "# 通过detach()方法对目标结点进行删除\n",
    "leaf_C = t.get_leaves_by_name(\"C\")[0]\n",
    "removed_node = leaf_C.detach()\n",
    "print(t)\n",
    "#       /-C\n",
    "# -- /-|\n",
    "#       \\-D"
   ]
  },
  {
   "cell_type": "markdown",
   "metadata": {},
   "source": [
    "修剪"
   ]
  },
  {
   "cell_type": "code",
   "execution_count": null,
   "metadata": {},
   "outputs": [],
   "source": [
    "# 通过prune()方法可对指定树叶节点进行修剪\n",
    "from ete3 import Tree\n",
    "t = Tree(\"data/example_tree_1.nw\")\n",
    "print(t)\n",
    "#         /-G\n",
    "#      /-|\n",
    "#     |   \\-F\n",
    "#     |\n",
    "#     |      /-E\n",
    "#   /-|   /-|\n",
    "#  |  |  |  |   /-D\n",
    "#  |  |  |   \\-|\n",
    "#  |  |  |     |   /-C\n",
    "#  |   \\-|      \\-|\n",
    "#  |     |        |   /-B\n",
    "#--|     |         \\-|\n",
    "#  |     |            \\-A\n",
    "#  |     |\n",
    "#  |      \\-J\n",
    "#  |\n",
    "#  |   /-I\n",
    "#   \\-|\n",
    "#      \\-H\n",
    "\n",
    "\n",
    "t.prune(['I','A','F'], preserve_branch_length=True)\n",
    "# 使用preserve_branch_length参数保留原来叶节点分支支长\n",
    "\n",
    "print(t)\n",
    "#      /-F\n",
    "#   /-|\n",
    "#--|   \\-A\n",
    "#  |\n",
    "#   \\-I\n",
    "\n",
    "t.show()"
   ]
  },
  {
   "cell_type": "code",
   "execution_count": null,
   "metadata": {},
   "outputs": [],
   "source": []
  },
  {
   "cell_type": "markdown",
   "metadata": {},
   "source": [
    "### ETE树的美化与注释"
   ]
  },
  {
   "cell_type": "markdown",
   "metadata": {},
   "source": [
    "#### 树的基本可视化"
   ]
  },
  {
   "cell_type": "code",
   "execution_count": null,
   "metadata": {},
   "outputs": [],
   "source": [
    "#使用以下几种方法可以将树newcik文件生成多种图片文件\n",
    "from ete3 import Tree\n",
    "t = Tree(\"data/example_tree_1.nw\")\n",
    "\n",
    "# 使用show()可直接对树图片文件进行交互操作\n",
    "t.show()\n",
    "\n",
    "# 使用render()将树生成png/svg.pdf等图片文件\n",
    "t.render(\"imgage.png\")\n",
    "t.render(\"imgage.svg\")\n",
    "t.render(\"imgage.pdf\")\n",
    "\n",
    "# 若需要在Jupyter Notebook上渲染, 则为\n",
    "t.render(\"%%inline\")"
   ]
  },
  {
   "cell_type": "code",
   "execution_count": null,
   "metadata": {},
   "outputs": [],
   "source": []
  },
  {
   "cell_type": "markdown",
   "metadata": {},
   "source": [
    "#### 通过TreeStyle类对树图像进行美化"
   ]
  },
  {
   "cell_type": "markdown",
   "metadata": {},
   "source": [
    "修改用于渲染树枝的参数"
   ]
  },
  {
   "cell_type": "code",
   "execution_count": null,
   "metadata": {},
   "outputs": [],
   "source": [
    "from ete3 import Tree, TreeStyle\n",
    "t = Tree(\"data/example_tree_1.nw\")\n",
    "\n",
    "# 定义TreeStyle\n",
    "ts = TreeStyle()\n",
    "ts.show_leaf_name = True\n",
    "ts.show_branch_length = True\n",
    "ts.show_branch_support = True\n",
    "t.render(file_name=\"%%inline\", tree_style=ts)"
   ]
  },
  {
   "cell_type": "markdown",
   "metadata": {},
   "source": [
    "修改树型"
   ]
  },
  {
   "cell_type": "code",
   "execution_count": null,
   "metadata": {},
   "outputs": [],
   "source": [
    "from ete3 import Tree, TreeStyle\n",
    "t = Tree(\"data/example_tree_1.nw\")\n",
    "\n",
    "ts = TreeStyle()\n",
    "ts.mode = \"c\"  # 将树图改为圈图\n",
    "ts.arc_start = -180 \n",
    "ts.arc_span = 180\n",
    "t.render(file_name=\"%%inline\", w=500, tree_style=ts)"
   ]
  },
  {
   "cell_type": "markdown",
   "metadata": {},
   "source": [
    "#### 通过NodeStyle()对树结点进行注释"
   ]
  },
  {
   "cell_type": "code",
   "execution_count": null,
   "metadata": {},
   "outputs": [],
   "source": [
    "# 用之前例的树示范 \n",
    "from ete3 import Tree, NodeStyle, TreeStyle\n",
    "t = Tree(\"data/example_tree_1.nw\")\n",
    "\n",
    "# 定义基本TreeStyle\n",
    "ts = TreeStyle()\n",
    "ts.show_leaf_name = True\n",
    "ts.show_branch_length = True\n",
    "ts.show_branch_support = True\n",
    "\n",
    "# 把叶节点渲染成直径为10p的红色小球，非叶结点为棕色的矩形\n",
    "for n in t.traverse():  \n",
    "    # 历遍所有结点并输入对应NodeStyle的属性\n",
    "    if n.is_leaf(): # Decide if leaf node\n",
    "        nstyle = NodeStyle()\n",
    "        nstyle[\"shape\"] = \"sphere\"\n",
    "        nstyle[\"size\"] = 10\n",
    "        nstyle[\"fgcolor\"] = \"red\"\n",
    "        n.set_style(nstyle) # 最后使用set_style()将NodeStyle类属性传递到结点中\n",
    "    else:\n",
    "        nstyle = NodeStyle()\n",
    "        nstyle[\"shape\"] = \"square\"\n",
    "        nstyle[\"size\"] = 15\n",
    "        nstyle[\"fgcolor\"] = \"brown\"\n",
    "        n.set_style(nstyle)        \n",
    "\n",
    "# 渲染根结点的作为图片的属性\n",
    "t.img_style[\"size\"] = 30\n",
    "t.img_style[\"fgcolor\"] = \"black\"\n",
    "t.render(file_name=\"%%inline\", w=500, tree_style=ts)"
   ]
  },
  {
   "cell_type": "code",
   "execution_count": null,
   "metadata": {},
   "outputs": [],
   "source": []
  },
  {
   "cell_type": "markdown",
   "metadata": {},
   "source": [
    "#### 通过Node faces属性进一步注释结点信息"
   ]
  },
  {
   "cell_type": "code",
   "execution_count": null,
   "metadata": {},
   "outputs": [],
   "source": [
    "# 参考以下例子\n",
    "from ete3 import Tree, TextFace, NodeStyle, TreeStyle\n",
    "\n",
    "t = Tree(\"((a,b),c);\")\n",
    "\n",
    "# 定义TextFace的文本信息\n",
    "right_c0_r0 = TextFace(\"right_col0_row0\")\n",
    "right_c0_r1 = TextFace(\"right_col0_row1\")\n",
    "right_c1_r0 = TextFace(\"right_col1_row0\")\n",
    "right_c1_r1 = TextFace(\"right_col1_row1\")\n",
    "right_c1_r2 = TextFace(\"right_col1_row2\")\n",
    "\n",
    "top_c0_r0 = TextFace(\"top_col0_row0\")\n",
    "top_c0_r1 = TextFace(\"top_col0_row1\")\n",
    "\n",
    "bottom_c0_r0 = TextFace(\"bottom_col0_row0\")\n",
    "bottom_c0_r1 = TextFace(\"bottom_col0_row1\")\n",
    "\n",
    "aligned_c0_r0 = TextFace(\"aligned_col0_row0\")\n",
    "aligned_c0_r1 = TextFace(\"aligned_col0_row1\")\n",
    "\n",
    "aligned_c1_r0 = TextFace(\"aligned_col1_row0\")\n",
    "aligned_c1_r1 = TextFace(\"aligned_col1_row1\")\n",
    "\n",
    "all_faces = [right_c0_r0, right_c0_r1, right_c1_r0, right_c1_r1, right_c1_r2, \n",
    "             top_c0_r0, top_c0_r1, \n",
    "             bottom_c0_r0, bottom_c0_r1, \n",
    "             aligned_c0_r0, aligned_c0_r1,\n",
    "             aligned_c1_r0, aligned_c1_r1]\n",
    "\n",
    "# 修改Face的属性，添加边界\n",
    "for f in all_faces:\n",
    "    f.border.width = 1\n",
    "    f.margin_bottom = 5\n",
    "    f.margin_top = 5\n",
    "    f.margin_right = 10\n",
    "\n",
    "# 为树根结点添加定义好的Textface，并定义好方位\n",
    "t.add_face(right_c0_r0, column=0, position=\"branch-right\")\n",
    "t.add_face(right_c0_r1, column=0, position=\"branch-right\")\n",
    "\n",
    "t.add_face(right_c1_r0, column=1, position=\"branch-right\")\n",
    "t.add_face(right_c1_r1, column=1, position=\"branch-right\")\n",
    "t.add_face(right_c1_r2, column=1, position=\"branch-right\")\n",
    "\n",
    "t.add_face(top_c0_r0, column=0, position=\"branch-top\")\n",
    "t.add_face(top_c0_r1, column=0, position=\"branch-top\")\n",
    "\n",
    "t.add_face(bottom_c0_r0, column=0, position=\"branch-bottom\")\n",
    "t.add_face(bottom_c0_r1, column=0, position=\"branch-bottom\")\n",
    "\n",
    "# 修改叶节点的结点的背景颜色\n",
    "a = t.get_leaves_by_name(\"a\")[0]\n",
    "a.set_style(NodeStyle())\n",
    "a.img_style[\"bgcolor\"] = \"lightgreen\"\n",
    "\n",
    "b = t.get_leaves_by_name(\"b\")[0]\n",
    "b.set_style(NodeStyle())\n",
    "b.img_style[\"bgcolor\"] = \"indianred\"\n",
    "\n",
    "c = t.get_leaves_by_name(\"c\")[0]\n",
    "c.set_style(NodeStyle())\n",
    "c.img_style[\"bgcolor\"] = \"lightblue\"\n",
    "\n",
    "t.set_style(NodeStyle())\n",
    "t.img_style[\"bgcolor\"] = \"lavender\"\n",
    "t.img_style[\"size\"] = 12\n",
    "\n",
    "# 为各叶节点添加其对应的TextFace注释，并要求对齐\n",
    "for leaf in t.iter_leaves():\n",
    "    leaf.img_style[\"size\"] = 12\n",
    "    leaf.add_face(right_c0_r0, 0, \"branch-right\")\n",
    "    leaf.add_face(aligned_c0_r1, 0, \"aligned\")\n",
    "    leaf.add_face(aligned_c0_r0, 0, \"aligned\")\n",
    "    leaf.add_face(aligned_c1_r1, 1, \"aligned\")\n",
    "    leaf.add_face(aligned_c1_r0, 1, \"aligned\")\n",
    "\n",
    "# 输出树图像\n",
    "ts = TreeStyle()\n",
    "ts.show_scale = False\n",
    "t.render(\"face_positions.png\", w=800, tree_style=ts)"
   ]
  },
  {
   "cell_type": "code",
   "execution_count": null,
   "metadata": {},
   "outputs": [],
   "source": []
  },
  {
   "cell_type": "markdown",
   "metadata": {},
   "source": [
    "#### 设计和运用layout布局函数"
   ]
  },
  {
   "cell_type": "code",
   "execution_count": null,
   "metadata": {},
   "outputs": [],
   "source": [
    "# 以example_tree_1为例，我们将定制布局函数，实现自动化注释:\n",
    "# 1）修改叶节点名称\n",
    "# 2）用不同颜色标记不同范围的bootstrap值分支\n",
    "\n",
    "from ete3 import Tree, NodeStyle, TreeStyle\n",
    "t = Tree(\"data/example_tree_1.nw\")\n",
    "\n",
    "# 准备叶节点对应名称\n",
    "namemap = {'A': 'Austria', \n",
    "           'B': 'Britain', \n",
    "           'C':'China', \n",
    "           'D':'Dutch', \n",
    "           'E':'Egypt',\n",
    "           'F':'France',\n",
    "           'G':'German',\n",
    "           'H':'Hungary',\n",
    "           'I':'Italy',\n",
    "           'J':'Jamaica'}\n",
    "\n",
    "    # 准备叶节点对应颜色\n",
    "colormap = { 'Austria': '#FF3933',\n",
    "         'Britain': '#FCFF33',\n",
    "         'China': '#FF3333',\n",
    "         'Dutch': '#FF8633',\n",
    "         'Egypt': '#5EFF33',\n",
    "         'France': '#33FFEC',\n",
    "         'German': '#3368FF',\n",
    "         'Hungary':'#5E33FF',\n",
    "         'Italy': '#F333FF',\n",
    "         'Jamaica':'#581845'}\n",
    "\n",
    "# 设计布局函数，自动化注释树结点的外观\n",
    "def mylayout(node):\n",
    "    # 更改结点分支外貌特征\n",
    "    node.img_style['vt_line_width'] = 4\n",
    "    node.img_style['hz_line_width'] = 4\n",
    "    node.img_style['vt_line_type'] = 0\n",
    "    node.img_style['hz_line_type'] = 0\n",
    "    \n",
    "    # 设置结点自展值阈值以及相应的颜色\n",
    "    if node.support > 0.8:\n",
    "        node.img_style[\"hz_line_color\"] = 'darkblue'  # change horizontal branch color \n",
    "        node.img_style[\"vt_line_color\"] = 'darkblue' # Change vertical branch color\n",
    "    elif 0.5 < node.support < 0.8:\n",
    "        node.img_style[\"hz_line_color\"] = 'green'  # change horizontal branch color \n",
    "        node.img_style[\"vt_line_color\"] = 'green' # Change vertical branch color\n",
    "    else:\n",
    "        node.img_style[\"hz_line_color\"] = 'red'  # change horizontal branch color \n",
    "        node.img_style[\"vt_line_color\"] = 'red' # Change vertical branch color\n",
    "        \n",
    "\t\n",
    "    if node.is_leaf():\n",
    "\t\t# 添加叶节点信息\n",
    "        new_name = namemap[node.name]\n",
    "        new_nameFace = faces.TextFace(new_name)\n",
    "        faces.add_face_to_node(new_nameFace, node, column=1, aligned=True)\n",
    "\n",
    "        # 设置叶节点外貌\n",
    "        node.img_style[\"size\"] = 12\n",
    "        node.img_style[\"shape\"] = \"sphere\"\n",
    "        node.img_style[\"fgcolor\"] = \"blue\"\n",
    "        node.img_style[\"bgcolor\"] = colormap[new_name]\n",
    "        \n",
    "        node.img_style[\"hz_line_color\"] = 'blue'  # change branch color \n",
    "        \n",
    "    # 设置其他非叶节点的节点外貌\n",
    "    else:\n",
    "        node.img_style[\"size\"] = 2\n",
    "        node.img_style[\"shape\"] = \"circle\"\n",
    "        node.img_style[\"fgcolor\"] = \"darkred\"\n",
    "\n",
    "# 基本树style设置\n",
    "ts = TreeStyle()\n",
    "ts.show_leaf_name = True\n",
    "ts.show_branch_length = True\n",
    "ts.show_branch_support = True\n",
    "# 指定布局函数到TreeStyle类中\n",
    "ts.layout_fn = mylayout \n",
    "\n",
    "t.img_style[\"size\"] = 30\n",
    "t.img_style[\"fgcolor\"] = \"black\"\n",
    "t.render(file_name=\"ete-api-layout.png\",tree_style=ts)"
   ]
  },
  {
   "cell_type": "code",
   "execution_count": null,
   "metadata": {},
   "outputs": [],
   "source": []
  },
  {
   "cell_type": "markdown",
   "metadata": {},
   "source": [
    "### 综合实战: 系统发育树+热图+气泡效果（自定义叶节点名称、外观）"
   ]
  },
  {
   "cell_type": "markdown",
   "metadata": {},
   "source": [
    "#### 读入矩阵文件"
   ]
  },
  {
   "cell_type": "code",
   "execution_count": null,
   "metadata": {},
   "outputs": [],
   "source": [
    "import pandas as pd\n",
    "import numpy as np\n",
    "PATH = \"./data/\"\n",
    "data = pd.read_table(PATH+\"diauxic.array\", header=0, index_col=0)\n",
    "data.index.name = \"#Names\"  #修改第一行的名字使其符合ETE的要求\n",
    "data_mat = data.to_csv(None, sep=\"\\t\", float_format=\"%.2f\") #将数据表转化成字符串\n",
    "header = list(data.columns.values)  #获取列的名字用于标记\n",
    "data"
   ]
  },
  {
   "cell_type": "code",
   "execution_count": null,
   "metadata": {},
   "outputs": [],
   "source": [
    "print(data_mat[:150]) # 取一部分查看格式转化为正确"
   ]
  },
  {
   "cell_type": "code",
   "execution_count": null,
   "metadata": {},
   "outputs": [],
   "source": [
    "header"
   ]
  },
  {
   "cell_type": "markdown",
   "metadata": {},
   "source": [
    "#### 导入树与矩阵"
   ]
  },
  {
   "cell_type": "code",
   "execution_count": null,
   "metadata": {},
   "outputs": [],
   "source": [
    "# 导入必需modules，其中ClusterTree是加载热图的module\n",
    "from ete3 import ClusterTree, TreeStyle, AttrFace, ProfileFace, TextFace\n",
    "from ete3.treeview.faces import add_face_to_node\n",
    "\n",
    "# 文件路径\n",
    "PATH = \"./data/\"\n",
    "\n",
    "# 导入树和上一步转化好格式的矩阵\n",
    "t = ClusterTree(PATH+\"diauxic.nw\", data_mat)\n",
    "\n",
    "# 矩阵文件已经负载到树的根结点属性中\n",
    "array =  t.arraytable\n",
    "\n",
    "# 一般化矩阵数据以创建热图颜色梯度\n",
    "matrix_dist = [i for r in range(len(array.matrix))\\\n",
    "               for i in array.matrix[r] if np.isfinite(i)]\n",
    "matrix_max = np.max(matrix_dist)\n",
    "matrix_min = np.min(matrix_dist)\n",
    "matrix_avg = matrix_min+((matrix_max-matrix_min)/2)"
   ]
  },
  {
   "cell_type": "markdown",
   "metadata": {},
   "source": [
    "#### 设计布局"
   ]
  },
  {
   "cell_type": "code",
   "execution_count": null,
   "metadata": {},
   "outputs": [],
   "source": [
    "# 为热图设计一个有8列的AttrFace, 作为叶节点的一个属性\n",
    "nameFace = AttrFace(\"name\", fsize=8)\n",
    "\n",
    "# 设计布局函数\n",
    "def mylayout(node):\n",
    "    profileFace  = ProfileFace(matrix_max, matrix_min, matrix_avg, 200, 14, \"heatmap\")\n",
    "    cbarsFace = ProfileFace(matrix_max,matrix_min,matrix_avg, 200, 70,\"cbars\")\n",
    "\n",
    "    # 如果结点为叶节点，加入热图\n",
    "    if node.is_leaf():\n",
    "        # And a line profile\n",
    "        add_face_to_node(profileFace, node, 0, aligned=True)\n",
    "        node.img_style[\"size\"]=0\n",
    "        add_face_to_node(nameFace, node, 1, aligned=True)\n",
    "\n",
    "    # 如果结点为中间结点，根据其silhouette值创建气泡效果\n",
    "    else:\n",
    "        # silhouette值大于0，为绿色气泡\n",
    "        if node.silhouette>0:\n",
    "            validationFace = TextFace(\"Silh=%0.2f\" %node.silhouette,\n",
    "                                      \"Verdana\", 10, \"#056600\")\n",
    "            node.img_style[\"fgcolor\"]=\"#056600\"\n",
    "        # 否则为红色\n",
    "        else:\n",
    "            validationFace = TextFace(\"Silh=%0.2f\" %node.silhouette,\n",
    "                                      \"Verdana\", 10, \"#940000\")\n",
    "            node.img_style[\"fgcolor\"]=\"#940000\"\n",
    "\n",
    "        # 结点大小与silhouette成正比.\n",
    "        node.img_style[\"shape\"]=\"sphere\"\n",
    "        if node.silhouette<=1 and node.silhouette>=-1:\n",
    "            node.img_style[\"size\"]= 15+int((abs(node.silhouette)*10)**2)\n",
    "\n",
    "        # 如果结点是内部的，绘制一个带有分区平均表达式的条形图\n",
    "        add_face_to_node(validationFace, node, 0)\n",
    "        if len(node)>100:\n",
    "            add_face_to_node(cbarsFace, node, 1)\n",
    "    \n",
    "# 出图\n",
    "ts = TreeStyle()\n",
    "ts.layout_fn = mylayout\n",
    "t.render(\"ete-cluster-final-result.pdf\", tree_style=ts)"
   ]
  },
  {
   "cell_type": "code",
   "execution_count": null,
   "metadata": {},
   "outputs": [],
   "source": []
  },
  {
   "cell_type": "code",
   "execution_count": null,
   "metadata": {},
   "outputs": [],
   "source": []
  },
  {
   "cell_type": "code",
   "execution_count": null,
   "metadata": {},
   "outputs": [],
   "source": []
  },
  {
   "cell_type": "code",
   "execution_count": null,
   "metadata": {},
   "outputs": [],
   "source": []
  }
 ],
 "metadata": {
  "kernelspec": {
   "display_name": "Python 3",
   "language": "python",
   "name": "python3"
  },
  "language_info": {
   "codemirror_mode": {
    "name": "ipython",
    "version": 3
   },
   "file_extension": ".py",
   "mimetype": "text/x-python",
   "name": "python",
   "nbconvert_exporter": "python",
   "pygments_lexer": "ipython3",
   "version": "3.6.10"
  }
 },
 "nbformat": 4,
 "nbformat_minor": 4
}
